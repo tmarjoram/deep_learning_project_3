{
 "cells": [
  {
   "cell_type": "markdown",
   "metadata": {
    "deletable": true,
    "editable": true
   },
   "source": [
    "# TV Script Generation\n",
    "In this project, you'll generate your own [Simpsons](https://en.wikipedia.org/wiki/The_Simpsons) TV scripts using RNNs.  You'll be using part of the [Simpsons dataset](https://www.kaggle.com/wcukierski/the-simpsons-by-the-data) of scripts from 27 seasons.  The Neural Network you'll build will generate a new TV script for a scene at [Moe's Tavern](https://simpsonswiki.com/wiki/Moe's_Tavern).\n",
    "## Get the Data\n",
    "The data is already provided for you.  You'll be using a subset of the original dataset.  It consists of only the scenes in Moe's Tavern.  This doesn't include other versions of the tavern, like \"Moe's Cavern\", \"Flaming Moe's\", \"Uncle Moe's Family Feed-Bag\", etc.."
   ]
  },
  {
   "cell_type": "code",
   "execution_count": 47,
   "metadata": {
    "collapsed": true,
    "deletable": true,
    "editable": true
   },
   "outputs": [],
   "source": [
    "\"\"\"\n",
    "DON'T MODIFY ANYTHING IN THIS CELL\n",
    "\"\"\"\n",
    "import helper\n",
    "        \n",
    "data_dir = './data/simpsons/moes_tavern_lines.txt'\n",
    "text = helper.load_data(data_dir)\n",
    "# Ignore notice, since we don't use it for analysing the data\n",
    "text = text[81:]"
   ]
  },
  {
   "cell_type": "markdown",
   "metadata": {
    "deletable": true,
    "editable": true
   },
   "source": [
    "## Explore the Data\n",
    "Play around with `view_sentence_range` to view different parts of the data."
   ]
  },
  {
   "cell_type": "code",
   "execution_count": 48,
   "metadata": {
    "collapsed": false,
    "deletable": true,
    "editable": true
   },
   "outputs": [
    {
     "name": "stdout",
     "output_type": "stream",
     "text": [
      "Dataset Stats\n",
      "Roughly the number of unique words: 11492\n",
      "Number of scenes: 262\n",
      "Average number of sentences in each scene: 15.248091603053435\n",
      "Number of lines: 4257\n",
      "Average number of words in each line: 11.50434578341555\n",
      "\n",
      "The sentences 0 to 10:\n",
      "Moe_Szyslak: (INTO PHONE) Moe's Tavern. Where the elite meet to drink.\n",
      "Bart_Simpson: Eh, yeah, hello, is Mike there? Last name, Rotch.\n",
      "Moe_Szyslak: (INTO PHONE) Hold on, I'll check. (TO BARFLIES) Mike Rotch. Mike Rotch. Hey, has anybody seen Mike Rotch, lately?\n",
      "Moe_Szyslak: (INTO PHONE) Listen you little puke. One of these days I'm gonna catch you, and I'm gonna carve my name on your back with an ice pick.\n",
      "Moe_Szyslak: What's the matter Homer? You're not your normal effervescent self.\n",
      "Homer_Simpson: I got my problems, Moe. Give me another one.\n",
      "Moe_Szyslak: Homer, hey, you should not drink to forget your problems.\n",
      "Barney_Gumble: Yeah, you should only drink to enhance your social skills.\n",
      "\n",
      "\n"
     ]
    }
   ],
   "source": [
    "view_sentence_range = (0, 10)\n",
    "\n",
    "\"\"\"\n",
    "DON'T MODIFY ANYTHING IN THIS CELL\n",
    "\"\"\"\n",
    "import numpy as np\n",
    "\n",
    "print('Dataset Stats')\n",
    "print('Roughly the number of unique words: {}'.format(len({word: None for word in text.split()})))\n",
    "scenes = text.split('\\n\\n')\n",
    "print('Number of scenes: {}'.format(len(scenes)))\n",
    "sentence_count_scene = [scene.count('\\n') for scene in scenes]\n",
    "print('Average number of sentences in each scene: {}'.format(np.average(sentence_count_scene)))\n",
    "\n",
    "sentences = [sentence for scene in scenes for sentence in scene.split('\\n')]\n",
    "print('Number of lines: {}'.format(len(sentences)))\n",
    "word_count_sentence = [len(sentence.split()) for sentence in sentences]\n",
    "print('Average number of words in each line: {}'.format(np.average(word_count_sentence)))\n",
    "\n",
    "print()\n",
    "print('The sentences {} to {}:'.format(*view_sentence_range))\n",
    "print('\\n'.join(text.split('\\n')[view_sentence_range[0]:view_sentence_range[1]]))"
   ]
  },
  {
   "cell_type": "markdown",
   "metadata": {
    "deletable": true,
    "editable": true
   },
   "source": [
    "## Implement Preprocessing Functions\n",
    "The first thing to do to any dataset is preprocessing.  Implement the following preprocessing functions below:\n",
    "- Lookup Table\n",
    "- Tokenize Punctuation\n",
    "\n",
    "### Lookup Table\n",
    "To create a word embedding, you first need to transform the words to ids.  In this function, create two dictionaries:\n",
    "- Dictionary to go from the words to an id, we'll call `vocab_to_int`\n",
    "- Dictionary to go from the id to word, we'll call `int_to_vocab`\n",
    "\n",
    "Return these dictionaries in the following tuple `(vocab_to_int, int_to_vocab)`"
   ]
  },
  {
   "cell_type": "code",
   "execution_count": 49,
   "metadata": {
    "collapsed": false,
    "deletable": true,
    "editable": true
   },
   "outputs": [
    {
     "name": "stdout",
     "output_type": "stream",
     "text": [
      "Tests Passed\n"
     ]
    }
   ],
   "source": [
    "import numpy as np\n",
    "import problem_unittests as tests\n",
    "\n",
    "def create_lookup_tables(text):\n",
    "    \"\"\"\n",
    "    Create lookup tables for vocabulary\n",
    "    :param text: The text of tv scripts split into words\n",
    "    :return: A tuple of dicts (vocab_to_int, int_to_vocab)\n",
    "    \"\"\"\n",
    "    # TODO: Implement Function\n",
    "    words = set(text)\n",
    "    int_to_vocab={i:word for i,word in enumerate(words)}\n",
    "    vocab_to_int={word:i for i, word in int_to_vocab.items()}\n",
    "    return vocab_to_int, int_to_vocab\n",
    "\n",
    "\n",
    "\"\"\"\n",
    "DON'T MODIFY ANYTHING IN THIS CELL THAT IS BELOW THIS LINE\n",
    "\"\"\"\n",
    "tests.test_create_lookup_tables(create_lookup_tables)"
   ]
  },
  {
   "cell_type": "markdown",
   "metadata": {
    "deletable": true,
    "editable": true
   },
   "source": [
    "### Tokenize Punctuation\n",
    "We'll be splitting the script into a word array using spaces as delimiters.  However, punctuations like periods and exclamation marks make it hard for the neural network to distinguish between the word \"bye\" and \"bye!\".\n",
    "\n",
    "Implement the function `token_lookup` to return a dict that will be used to tokenize symbols like \"!\" into \"||Exclamation_Mark||\".  Create a dictionary for the following symbols where the symbol is the key and value is the token:\n",
    "- Period ( . )\n",
    "- Comma ( , )\n",
    "- Quotation Mark ( \" )\n",
    "- Semicolon ( ; )\n",
    "- Exclamation mark ( ! )\n",
    "- Question mark ( ? )\n",
    "- Left Parentheses ( ( )\n",
    "- Right Parentheses ( ) )\n",
    "- Dash ( -- )\n",
    "- Return ( \\n )\n",
    "\n",
    "This dictionary will be used to token the symbols and add the delimiter (space) around it.  This separates the symbols as it's own word, making it easier for the neural network to predict on the next word. Make sure you don't use a token that could be confused as a word. Instead of using the token \"dash\", try using something like \"||dash||\"."
   ]
  },
  {
   "cell_type": "code",
   "execution_count": 50,
   "metadata": {
    "collapsed": false,
    "deletable": true,
    "editable": true
   },
   "outputs": [
    {
     "name": "stdout",
     "output_type": "stream",
     "text": [
      "Tests Passed\n"
     ]
    }
   ],
   "source": [
    "def token_lookup():\n",
    "    \"\"\"\n",
    "    Generate a dict to turn punctuation into a token.\n",
    "    :return: Tokenize dictionary where the key is the punctuation and the value is the token\n",
    "    \"\"\"\n",
    "    # TODO: Implement Function\n",
    "    \n",
    "    symbols = {'.':'Period',\n",
    "                ',':'Comma',\n",
    "                '\"':'Quotation Mark',\n",
    "                ';':'Semicolon',\n",
    "                '!':'Exclamation Mark',\n",
    "                '?':'Question Mark',\n",
    "                '(':'Left Parentheses',\n",
    "                ')':'Right Parentheses',\n",
    "                '--':'Dash',\n",
    "                '\\n':'Return'}\n",
    "    \n",
    "    return {symbol:\"||\"+token.replace(\" \", \"_\")+\"||\" for symbol, token in symbols.items()}\n",
    "\n",
    "\"\"\"\n",
    "DON'T MODIFY ANYTHING IN THIS CELL THAT IS BELOW THIS LINE\n",
    "\"\"\"\n",
    "tests.test_tokenize(token_lookup)"
   ]
  },
  {
   "cell_type": "markdown",
   "metadata": {
    "deletable": true,
    "editable": true
   },
   "source": [
    "## Preprocess all the data and save it\n",
    "Running the code cell below will preprocess all the data and save it to file."
   ]
  },
  {
   "cell_type": "code",
   "execution_count": 51,
   "metadata": {
    "collapsed": true,
    "deletable": true,
    "editable": true
   },
   "outputs": [],
   "source": [
    "\"\"\"\n",
    "DON'T MODIFY ANYTHING IN THIS CELL\n",
    "\"\"\"\n",
    "# Preprocess Training, Validation, and Testing Data\n",
    "helper.preprocess_and_save_data(data_dir, token_lookup, create_lookup_tables)"
   ]
  },
  {
   "cell_type": "markdown",
   "metadata": {
    "deletable": true,
    "editable": true
   },
   "source": [
    "# Check Point\n",
    "This is your first checkpoint. If you ever decide to come back to this notebook or have to restart the notebook, you can start from here. The preprocessed data has been saved to disk."
   ]
  },
  {
   "cell_type": "code",
   "execution_count": 52,
   "metadata": {
    "collapsed": true,
    "deletable": true,
    "editable": true
   },
   "outputs": [],
   "source": [
    "\"\"\"\n",
    "DON'T MODIFY ANYTHING IN THIS CELL\n",
    "\"\"\"\n",
    "import helper\n",
    "import numpy as np\n",
    "import problem_unittests as tests\n",
    "\n",
    "int_text, vocab_to_int, int_to_vocab, token_dict = helper.load_preprocess()"
   ]
  },
  {
   "cell_type": "markdown",
   "metadata": {
    "deletable": true,
    "editable": true
   },
   "source": [
    "## Build the Neural Network\n",
    "You'll build the components necessary to build a RNN by implementing the following functions below:\n",
    "- get_inputs\n",
    "- get_init_cell\n",
    "- get_embed\n",
    "- build_rnn\n",
    "- build_nn\n",
    "- get_batches\n",
    "\n",
    "### Check the Version of TensorFlow and Access to GPU"
   ]
  },
  {
   "cell_type": "code",
   "execution_count": 53,
   "metadata": {
    "collapsed": false,
    "deletable": true,
    "editable": true
   },
   "outputs": [
    {
     "name": "stdout",
     "output_type": "stream",
     "text": [
      "TensorFlow Version: 1.0.0\n",
      "Default GPU Device: /gpu:0\n"
     ]
    }
   ],
   "source": [
    "\"\"\"\n",
    "DON'T MODIFY ANYTHING IN THIS CELL\n",
    "\"\"\"\n",
    "from distutils.version import LooseVersion\n",
    "import warnings\n",
    "import tensorflow as tf\n",
    "\n",
    "# Check TensorFlow Version\n",
    "assert LooseVersion(tf.__version__) >= LooseVersion('1.0'), 'Please use TensorFlow version 1.0 or newer'\n",
    "print('TensorFlow Version: {}'.format(tf.__version__))\n",
    "\n",
    "# Check for a GPU\n",
    "if not tf.test.gpu_device_name():\n",
    "    warnings.warn('No GPU found. Please use a GPU to train your neural network.')\n",
    "else:\n",
    "    print('Default GPU Device: {}'.format(tf.test.gpu_device_name()))"
   ]
  },
  {
   "cell_type": "markdown",
   "metadata": {
    "deletable": true,
    "editable": true
   },
   "source": [
    "### Input\n",
    "Implement the `get_inputs()` function to create TF Placeholders for the Neural Network.  It should create the following placeholders:\n",
    "- Input text placeholder named \"input\" using the [TF Placeholder](https://www.tensorflow.org/api_docs/python/tf/placeholder) `name` parameter.\n",
    "- Targets placeholder\n",
    "- Learning Rate placeholder\n",
    "\n",
    "Return the placeholders in the following tuple `(Input, Targets, LearningRate)`"
   ]
  },
  {
   "cell_type": "code",
   "execution_count": 54,
   "metadata": {
    "collapsed": false,
    "deletable": true,
    "editable": true
   },
   "outputs": [
    {
     "name": "stdout",
     "output_type": "stream",
     "text": [
      "Tests Passed\n"
     ]
    }
   ],
   "source": [
    "def get_inputs():\n",
    "    \"\"\"\n",
    "    Create TF Placeholders for input, targets, and learning rate.\n",
    "    :return: Tuple (input, targets, learning rate)\n",
    "    \"\"\"\n",
    "    # TODO: Implement Function\n",
    "    inputs = tf.placeholder(tf.int32, [None, None], name='input')\n",
    "    targets = tf.placeholder(tf.int32, [None, None], name='targets')\n",
    "    learning_rate = tf.placeholder(tf.float32, name='leaning_rate')\n",
    "    return inputs,targets,learning_rate\n",
    "\n",
    "\n",
    "\"\"\"\n",
    "DON'T MODIFY ANYTHING IN THIS CELL THAT IS BELOW THIS LINE\n",
    "\"\"\"\n",
    "tests.test_get_inputs(get_inputs)"
   ]
  },
  {
   "cell_type": "markdown",
   "metadata": {
    "deletable": true,
    "editable": true
   },
   "source": [
    "### Build RNN Cell and Initialize\n",
    "Stack one or more [`BasicLSTMCells`](https://www.tensorflow.org/api_docs/python/tf/contrib/rnn/BasicLSTMCell) in a [`MultiRNNCell`](https://www.tensorflow.org/api_docs/python/tf/contrib/rnn/MultiRNNCell).\n",
    "- The Rnn size should be set using `rnn_size`\n",
    "- Initalize Cell State using the MultiRNNCell's [`zero_state()`](https://www.tensorflow.org/api_docs/python/tf/contrib/rnn/MultiRNNCell#zero_state) function\n",
    "    - Apply the name \"initial_state\" to the initial state using [`tf.identity()`](https://www.tensorflow.org/api_docs/python/tf/identity)\n",
    "\n",
    "Return the cell and initial state in the following tuple `(Cell, InitialState)`"
   ]
  },
  {
   "cell_type": "code",
   "execution_count": 55,
   "metadata": {
    "collapsed": false,
    "deletable": true,
    "editable": true
   },
   "outputs": [
    {
     "name": "stdout",
     "output_type": "stream",
     "text": [
      "Tests Passed\n"
     ]
    }
   ],
   "source": [
    "def get_init_cell(batch_size, rnn_size):\n",
    "    \"\"\"\n",
    "    Create an RNN Cell and initialize it.\n",
    "    :param batch_size: Size of batches\n",
    "    :param rnn_size: Size of RNNs\n",
    "    :return: Tuple (cell, initialize state)\n",
    "    \"\"\"\n",
    "    # TODO: Implement Function\n",
    "    cell = tf.contrib.rnn.MultiRNNCell([tf.contrib.rnn.BasicLSTMCell(rnn_size) for _ in range(2)]) # Two lstm layer ?\n",
    "\n",
    "    initial_state = cell.zero_state(batch_size, tf.float32)\n",
    "    initial_state=tf.identity(initial_state, name=\"initial_state\")\n",
    "\n",
    "    return cell, initial_state\n",
    "\n",
    "\n",
    "\"\"\"\n",
    "DON'T MODIFY ANYTHING IN THIS CELL THAT IS BELOW THIS LINE\n",
    "\"\"\"\n",
    "tests.test_get_init_cell(get_init_cell)"
   ]
  },
  {
   "cell_type": "markdown",
   "metadata": {
    "deletable": true,
    "editable": true
   },
   "source": [
    "### Word Embedding\n",
    "Apply embedding to `input_data` using TensorFlow.  Return the embedded sequence."
   ]
  },
  {
   "cell_type": "code",
   "execution_count": 56,
   "metadata": {
    "collapsed": false,
    "deletable": true,
    "editable": true
   },
   "outputs": [
    {
     "name": "stdout",
     "output_type": "stream",
     "text": [
      "Tests Passed\n"
     ]
    }
   ],
   "source": [
    "def get_embed(input_data, vocab_size, embed_dim):\n",
    "    \"\"\"\n",
    "    Create embedding for <input_data>.\n",
    "    :param input_data: TF placeholder for text input.\n",
    "    :param vocab_size: Number of words in vocabulary.\n",
    "    :param embed_dim: Number of embedding dimensions\n",
    "    :return: Embedded input.\n",
    "    \"\"\"\n",
    "    #height width depth\n",
    "    embedding = tf.Variable(tf.truncated_normal((vocab_size, embed_dim),stddev=0.1))\n",
    "    \n",
    "    embed = tf.nn.embedding_lookup(embedding, input_data) \n",
    " \n",
    "    return embed\n",
    "\n",
    "\n",
    "\"\"\"\n",
    "DON'T MODIFY ANYTHING IN THIS CELL THAT IS BELOW THIS LINE\n",
    "\"\"\"\n",
    "tests.test_get_embed(get_embed)"
   ]
  },
  {
   "cell_type": "markdown",
   "metadata": {
    "deletable": true,
    "editable": true
   },
   "source": [
    "### Build RNN\n",
    "You created a RNN Cell in the `get_init_cell()` function.  Time to use the cell to create a RNN.\n",
    "- Build the RNN using the [`tf.nn.dynamic_rnn()`](https://www.tensorflow.org/api_docs/python/tf/nn/dynamic_rnn)\n",
    " - Apply the name \"final_state\" to the final state using [`tf.identity()`](https://www.tensorflow.org/api_docs/python/tf/identity)\n",
    "\n",
    "Return the outputs and final_state state in the following tuple `(Outputs, FinalState)` "
   ]
  },
  {
   "cell_type": "code",
   "execution_count": 57,
   "metadata": {
    "collapsed": false,
    "deletable": true,
    "editable": true
   },
   "outputs": [
    {
     "name": "stdout",
     "output_type": "stream",
     "text": [
      "Tests Passed\n"
     ]
    }
   ],
   "source": [
    "def build_rnn(cell, inputs):\n",
    "    \"\"\"\n",
    "    Create a RNN using a RNN Cell\n",
    "    :param cell: RNN Cell\n",
    "    :param inputs: Input text data\n",
    "    :return: Tuple (Outputs, Final State)\n",
    "    \"\"\"\n",
    "    # TODO: Implement Function\n",
    "    outputs, state = tf.nn.dynamic_rnn(cell, inputs, dtype=tf.float32)\n",
    "    state = tf.identity(state,name=\"final_state\")\n",
    "    return outputs, state\n",
    "\n",
    "\n",
    "\"\"\"\n",
    "DON'T MODIFY ANYTHING IN THIS CELL THAT IS BELOW THIS LINE\n",
    "\"\"\"\n",
    "tests.test_build_rnn(build_rnn)"
   ]
  },
  {
   "cell_type": "markdown",
   "metadata": {
    "deletable": true,
    "editable": true
   },
   "source": [
    "### Build the Neural Network\n",
    "Apply the functions you implemented above to:\n",
    "- Apply embedding to `input_data` using your `get_embed(input_data, vocab_size, embed_dim)` function.\n",
    "- Build RNN using `cell` and your `build_rnn(cell, inputs)` function.\n",
    "- Apply a fully connected layer with a linear activation and `vocab_size` as the number of outputs.\n",
    "\n",
    "Return the logits and final state in the following tuple (Logits, FinalState) "
   ]
  },
  {
   "cell_type": "code",
   "execution_count": 58,
   "metadata": {
    "collapsed": false,
    "deletable": true,
    "editable": true
   },
   "outputs": [
    {
     "name": "stdout",
     "output_type": "stream",
     "text": [
      "Tests Passed\n"
     ]
    }
   ],
   "source": [
    "def build_nn(cell, rnn_size, input_data, vocab_size, embed_dim):\n",
    "    \"\"\"\n",
    "    Build part of the neural network\n",
    "    :param cell: RNN cell\n",
    "    :param rnn_size: Size of rnns\n",
    "    :param input_data: Input data\n",
    "    :param vocab_size: Vocabulary size\n",
    "    :param embed_dim: Number of embedding dimensions\n",
    "    :return: Tuple (Logits, FinalState)\n",
    "    \"\"\"\n",
    "    # TODO: Implement Function\n",
    "    embed = get_embed(input_data, vocab_size, embed_dim)    \n",
    "\n",
    "    rnn_out, state = build_rnn(cell, embed)\n",
    "    \n",
    "    logits = tf.contrib.layers.fully_connected(rnn_out, vocab_size,activation_fn=None)\n",
    "    \n",
    "    return logits, state    \n",
    " \n",
    "\n",
    "\"\"\"\n",
    "DON'T MODIFY ANYTHING IN THIS CELL THAT IS BELOW THIS LINE\n",
    "\"\"\"\n",
    "tests.test_build_nn(build_nn)"
   ]
  },
  {
   "cell_type": "markdown",
   "metadata": {
    "deletable": true,
    "editable": true
   },
   "source": [
    "### Batches\n",
    "Implement `get_batches` to create batches of input and targets using `int_text`.  The batches should be a Numpy array with the shape `(number of batches, 2, batch size, sequence length)`. Each batch contains two elements:\n",
    "- The first element is a single batch of **input** with the shape `[batch size, sequence length]`\n",
    "- The second element is a single batch of **targets** with the shape `[batch size, sequence length]`\n",
    "\n",
    "If you can't fill the last batch with enough data, drop the last batch.\n",
    "\n",
    "For exmple, `get_batches([1, 2, 3, 4, 5, 6, 7, 8, 9, 10, 11, 12, 13, 14, 15, 16, 17, 18, 19, 20], 3, 2)` would return a Numpy array of the following:\n",
    "```\n",
    "[\n",
    "  # First Batch\n",
    "  [\n",
    "    # Batch of Input\n",
    "    [[ 1  2], [ 7  8], [13 14]]\n",
    "    # Batch of targets\n",
    "    [[ 2  3], [ 8  9], [14 15]]\n",
    "  ]\n",
    "\n",
    "  # Second Batch\n",
    "  [\n",
    "    # Batch of Input\n",
    "    [[ 3  4], [ 9 10], [15 16]]\n",
    "    # Batch of targets\n",
    "    [[ 4  5], [10 11], [16 17]]\n",
    "  ]\n",
    "\n",
    "  # Third Batch\n",
    "  [\n",
    "    # Batch of Input\n",
    "    [[ 5  6], [11 12], [17 18]]\n",
    "    # Batch of targets\n",
    "    [[ 6  7], [12 13], [18  1]]\n",
    "  ]\n",
    "]\n",
    "```\n",
    "\n",
    "Notice that the last target value in the last batch is the first input value of the first batch. In this case, `1`. This is a common technique used when creating sequence batches, although it is rather unintuitive."
   ]
  },
  {
   "cell_type": "code",
   "execution_count": 59,
   "metadata": {
    "collapsed": false,
    "deletable": true,
    "editable": true
   },
   "outputs": [
    {
     "name": "stdout",
     "output_type": "stream",
     "text": [
      "Tests Passed\n"
     ]
    }
   ],
   "source": [
    "def get_batches(int_text, batch_size, seq_length):\n",
    "    \"\"\"\n",
    "    Return batches of input and target\n",
    "    :param int_text: Text with the words replaced by their ids\n",
    "    :param batch_size: The size of batch\n",
    "    :param seq_length: The length of sequence\n",
    "    :return: Batches as a Numpy array\n",
    "    \"\"\"\n",
    "    # TODO: Implement Function\n",
    "\n",
    "    # Get the number of characters per batch and number of batches we can make\n",
    "    words_per_batch =  batch_size * seq_length\n",
    "    n_batches = len(int_text) // words_per_batch\n",
    "    \n",
    "    # Keep only enough words to make full batches\n",
    "    int_text = int_text[:n_batches*words_per_batch]\n",
    "    \n",
    "    # Reshape into batch_size rows\n",
    "    int_text = np.reshape(int_text,(batch_size, -1))\n",
    "\n",
    "    batch_list=[]\n",
    "    for n in range(0, int_text.shape[1], seq_length):\n",
    "        # The features\n",
    "        x = int_text[0:batch_size, n:n+seq_length]\n",
    "        # The targets, shifted by one\n",
    "        y=np.zeros(np.array(x).shape)\n",
    "        y[:,:-1],y[:,-1] = x[:,1:],int_text[:,n+seq_length if n+seq_length < (int_text.shape[1]-1) else 0]\n",
    "        \n",
    "        batch_list.extend([x, y])\n",
    "\n",
    "    #Set target of last char to be 1st char of entire sequence\n",
    "    batch_list[-1][-1][-1]=int_text[0][0]\n",
    "    batches = np.array(batch_list)\n",
    "    return batches.reshape([n_batches, 2, batch_size, seq_length])\n",
    "\n",
    "\"\"\"\n",
    "DON'T MODIFY ANYTHING IN THIS CELL THAT IS BELOW THIS LINE\n",
    "\"\"\"\n",
    "tests.test_get_batches(get_batches)"
   ]
  },
  {
   "cell_type": "markdown",
   "metadata": {
    "deletable": true,
    "editable": true
   },
   "source": [
    "## Neural Network Training\n",
    "### Hyperparameters\n",
    "Tune the following parameters:\n",
    "\n",
    "- Set `num_epochs` to the number of epochs.\n",
    "- Set `batch_size` to the batch size.\n",
    "- Set `rnn_size` to the size of the RNNs.\n",
    "- Set `embed_dim` to the size of the embedding.\n",
    "- Set `seq_length` to the length of sequence.\n",
    "- Set `learning_rate` to the learning rate.\n",
    "- Set `show_every_n_batches` to the number of batches the neural network should print progress."
   ]
  },
  {
   "cell_type": "code",
   "execution_count": 61,
   "metadata": {
    "collapsed": true,
    "deletable": true,
    "editable": true
   },
   "outputs": [],
   "source": [
    "# Number of Epochs\n",
    "num_epochs = 1500\n",
    "# Batch Size\n",
    "batch_size = 200\n",
    "# RNN Size\n",
    "rnn_size = 256\n",
    "# Embedding Dimension Size\n",
    "embed_dim = 300\n",
    "# Sequence Length\n",
    "seq_length = 20\n",
    "# Learning Rate\n",
    "learning_rate = .0004\n",
    "# Show stats for every n number of batches\n",
    "show_every_n_batches = 50\n",
    "\n",
    "\"\"\"\n",
    "DON'T MODIFY ANYTHING IN THIS CELL THAT IS BELOW THIS LINE\n",
    "\"\"\"\n",
    "save_dir = './save'"
   ]
  },
  {
   "cell_type": "markdown",
   "metadata": {
    "deletable": true,
    "editable": true
   },
   "source": [
    "### Build the Graph\n",
    "Build the graph using the neural network you implemented."
   ]
  },
  {
   "cell_type": "code",
   "execution_count": 62,
   "metadata": {
    "collapsed": true,
    "deletable": true,
    "editable": true
   },
   "outputs": [],
   "source": [
    "\"\"\"\n",
    "DON'T MODIFY ANYTHING IN THIS CELL\n",
    "\"\"\"\n",
    "from tensorflow.contrib import seq2seq\n",
    "\n",
    "train_graph = tf.Graph()\n",
    "with train_graph.as_default():\n",
    "    vocab_size = len(int_to_vocab)\n",
    "    input_text, targets, lr = get_inputs()\n",
    "    input_data_shape = tf.shape(input_text)\n",
    "    cell, initial_state = get_init_cell(input_data_shape[0], rnn_size)\n",
    "    logits, final_state = build_nn(cell, rnn_size, input_text, vocab_size, embed_dim)\n",
    "\n",
    "    # Probabilities for generating words\n",
    "    probs = tf.nn.softmax(logits, name='probs')\n",
    "\n",
    "    # Loss function\n",
    "    cost = seq2seq.sequence_loss(\n",
    "        logits,\n",
    "        targets,\n",
    "        tf.ones([input_data_shape[0], input_data_shape[1]]))\n",
    "\n",
    "    # Optimizer\n",
    "    optimizer = tf.train.AdamOptimizer(lr)\n",
    "\n",
    "    # Gradient Clipping\n",
    "    gradients = optimizer.compute_gradients(cost)\n",
    "    capped_gradients = [(tf.clip_by_value(grad, -1., 1.), var) for grad, var in gradients if grad is not None]\n",
    "    train_op = optimizer.apply_gradients(capped_gradients)"
   ]
  },
  {
   "cell_type": "markdown",
   "metadata": {
    "deletable": true,
    "editable": true
   },
   "source": [
    "## Train\n",
    "Train the neural network on the preprocessed data.  If you have a hard time getting a good loss, check the [forums](https://discussions.udacity.com/) to see if anyone is having the same problem."
   ]
  },
  {
   "cell_type": "code",
   "execution_count": 63,
   "metadata": {
    "collapsed": false,
    "deletable": true,
    "editable": true
   },
   "outputs": [
    {
     "name": "stdout",
     "output_type": "stream",
     "text": [
      "Epoch   0 Batch    0/17   train_loss = 8.822\n",
      "Epoch   2 Batch   16/17   train_loss = 6.254\n",
      "Epoch   5 Batch   15/17   train_loss = 6.116\n",
      "Epoch   8 Batch   14/17   train_loss = 5.983\n",
      "Epoch  11 Batch   13/17   train_loss = 6.015\n",
      "Epoch  14 Batch   12/17   train_loss = 5.895\n",
      "Epoch  17 Batch   11/17   train_loss = 5.949\n",
      "Epoch  20 Batch   10/17   train_loss = 5.916\n",
      "Epoch  23 Batch    9/17   train_loss = 5.929\n",
      "Epoch  26 Batch    8/17   train_loss = 5.855\n",
      "Epoch  29 Batch    7/17   train_loss = 5.898\n",
      "Epoch  32 Batch    6/17   train_loss = 5.874\n",
      "Epoch  35 Batch    5/17   train_loss = 5.961\n",
      "Epoch  38 Batch    4/17   train_loss = 5.911\n",
      "Epoch  41 Batch    3/17   train_loss = 5.955\n",
      "Epoch  44 Batch    2/17   train_loss = 5.946\n",
      "Epoch  47 Batch    1/17   train_loss = 5.900\n",
      "Epoch  50 Batch    0/17   train_loss = 5.963\n",
      "Epoch  52 Batch   16/17   train_loss = 6.006\n",
      "Epoch  55 Batch   15/17   train_loss = 6.002\n",
      "Epoch  58 Batch   14/17   train_loss = 5.907\n",
      "Epoch  61 Batch   13/17   train_loss = 5.973\n",
      "Epoch  64 Batch   12/17   train_loss = 5.871\n",
      "Epoch  67 Batch   11/17   train_loss = 5.930\n",
      "Epoch  70 Batch   10/17   train_loss = 5.902\n",
      "Epoch  73 Batch    9/17   train_loss = 5.923\n",
      "Epoch  76 Batch    8/17   train_loss = 5.849\n",
      "Epoch  79 Batch    7/17   train_loss = 5.893\n",
      "Epoch  82 Batch    6/17   train_loss = 5.872\n",
      "Epoch  85 Batch    5/17   train_loss = 5.956\n",
      "Epoch  88 Batch    4/17   train_loss = 5.909\n",
      "Epoch  91 Batch    3/17   train_loss = 5.952\n",
      "Epoch  94 Batch    2/17   train_loss = 5.941\n",
      "Epoch  97 Batch    1/17   train_loss = 5.896\n",
      "Epoch 100 Batch    0/17   train_loss = 5.958\n",
      "Epoch 102 Batch   16/17   train_loss = 5.999\n",
      "Epoch 105 Batch   15/17   train_loss = 5.993\n",
      "Epoch 108 Batch   14/17   train_loss = 5.899\n",
      "Epoch 111 Batch   13/17   train_loss = 5.955\n",
      "Epoch 114 Batch   12/17   train_loss = 5.787\n",
      "Epoch 117 Batch   11/17   train_loss = 5.749\n",
      "Epoch 120 Batch   10/17   train_loss = 5.626\n",
      "Epoch 123 Batch    9/17   train_loss = 5.560\n",
      "Epoch 126 Batch    8/17   train_loss = 5.423\n",
      "Epoch 129 Batch    7/17   train_loss = 5.394\n",
      "Epoch 132 Batch    6/17   train_loss = 5.293\n",
      "Epoch 135 Batch    5/17   train_loss = 5.280\n",
      "Epoch 138 Batch    4/17   train_loss = 5.159\n",
      "Epoch 141 Batch    3/17   train_loss = 5.107\n",
      "Epoch 144 Batch    2/17   train_loss = 5.057\n",
      "Epoch 147 Batch    1/17   train_loss = 4.944\n",
      "Epoch 150 Batch    0/17   train_loss = 4.928\n",
      "Epoch 152 Batch   16/17   train_loss = 5.018\n",
      "Epoch 155 Batch   15/17   train_loss = 4.909\n",
      "Epoch 158 Batch   14/17   train_loss = 4.734\n",
      "Epoch 161 Batch   13/17   train_loss = 4.797\n",
      "Epoch 164 Batch   12/17   train_loss = 4.632\n",
      "Epoch 167 Batch   11/17   train_loss = 4.695\n",
      "Epoch 170 Batch   10/17   train_loss = 4.620\n",
      "Epoch 173 Batch    9/17   train_loss = 4.562\n",
      "Epoch 176 Batch    8/17   train_loss = 4.483\n",
      "Epoch 179 Batch    7/17   train_loss = 4.472\n",
      "Epoch 182 Batch    6/17   train_loss = 4.417\n",
      "Epoch 185 Batch    5/17   train_loss = 4.468\n",
      "Epoch 188 Batch    4/17   train_loss = 4.399\n",
      "Epoch 191 Batch    3/17   train_loss = 4.384\n",
      "Epoch 194 Batch    2/17   train_loss = 4.379\n",
      "Epoch 197 Batch    1/17   train_loss = 4.285\n",
      "Epoch 200 Batch    0/17   train_loss = 4.270\n",
      "Epoch 202 Batch   16/17   train_loss = 4.425\n",
      "Epoch 205 Batch   15/17   train_loss = 4.304\n",
      "Epoch 208 Batch   14/17   train_loss = 4.144\n",
      "Epoch 211 Batch   13/17   train_loss = 4.217\n",
      "Epoch 214 Batch   12/17   train_loss = 4.094\n",
      "Epoch 217 Batch   11/17   train_loss = 4.143\n",
      "Epoch 220 Batch   10/17   train_loss = 4.086\n",
      "Epoch 223 Batch    9/17   train_loss = 4.029\n",
      "Epoch 226 Batch    8/17   train_loss = 3.997\n",
      "Epoch 229 Batch    7/17   train_loss = 3.970\n",
      "Epoch 232 Batch    6/17   train_loss = 3.933\n",
      "Epoch 235 Batch    5/17   train_loss = 3.971\n",
      "Epoch 238 Batch    4/17   train_loss = 3.920\n",
      "Epoch 241 Batch    3/17   train_loss = 3.909\n",
      "Epoch 244 Batch    2/17   train_loss = 3.901\n",
      "Epoch 247 Batch    1/17   train_loss = 3.811\n",
      "Epoch 250 Batch    0/17   train_loss = 3.795\n",
      "Epoch 252 Batch   16/17   train_loss = 3.969\n",
      "Epoch 255 Batch   15/17   train_loss = 3.840\n",
      "Epoch 258 Batch   14/17   train_loss = 3.686\n",
      "Epoch 261 Batch   13/17   train_loss = 3.756\n",
      "Epoch 264 Batch   12/17   train_loss = 3.644\n",
      "Epoch 267 Batch   11/17   train_loss = 3.711\n",
      "Epoch 270 Batch   10/17   train_loss = 3.677\n",
      "Epoch 273 Batch    9/17   train_loss = 3.605\n",
      "Epoch 276 Batch    8/17   train_loss = 3.635\n",
      "Epoch 279 Batch    7/17   train_loss = 3.606\n",
      "Epoch 282 Batch    6/17   train_loss = 3.588\n",
      "Epoch 285 Batch    5/17   train_loss = 3.604\n",
      "Epoch 288 Batch    4/17   train_loss = 3.537\n",
      "Epoch 291 Batch    3/17   train_loss = 3.614\n",
      "Epoch 294 Batch    2/17   train_loss = 3.532\n",
      "Epoch 297 Batch    1/17   train_loss = 3.429\n",
      "Epoch 300 Batch    0/17   train_loss = 3.408\n",
      "Epoch 302 Batch   16/17   train_loss = 3.571\n",
      "Epoch 305 Batch   15/17   train_loss = 3.445\n",
      "Epoch 308 Batch   14/17   train_loss = 3.307\n",
      "Epoch 311 Batch   13/17   train_loss = 3.384\n",
      "Epoch 314 Batch   12/17   train_loss = 3.273\n",
      "Epoch 317 Batch   11/17   train_loss = 3.337\n",
      "Epoch 320 Batch   10/17   train_loss = 3.305\n",
      "Epoch 323 Batch    9/17   train_loss = 3.226\n",
      "Epoch 326 Batch    8/17   train_loss = 3.294\n",
      "Epoch 329 Batch    7/17   train_loss = 3.208\n",
      "Epoch 332 Batch    6/17   train_loss = 3.197\n",
      "Epoch 335 Batch    5/17   train_loss = 3.193\n",
      "Epoch 338 Batch    4/17   train_loss = 3.152\n",
      "Epoch 341 Batch    3/17   train_loss = 3.154\n",
      "Epoch 344 Batch    2/17   train_loss = 3.130\n",
      "Epoch 347 Batch    1/17   train_loss = 3.094\n",
      "Epoch 350 Batch    0/17   train_loss = 3.053\n",
      "Epoch 352 Batch   16/17   train_loss = 3.199\n",
      "Epoch 355 Batch   15/17   train_loss = 3.099\n",
      "Epoch 358 Batch   14/17   train_loss = 2.941\n",
      "Epoch 361 Batch   13/17   train_loss = 3.036\n",
      "Epoch 364 Batch   12/17   train_loss = 2.953\n",
      "Epoch 367 Batch   11/17   train_loss = 3.051\n",
      "Epoch 370 Batch   10/17   train_loss = 3.102\n",
      "Epoch 373 Batch    9/17   train_loss = 2.935\n",
      "Epoch 376 Batch    8/17   train_loss = 2.993\n",
      "Epoch 379 Batch    7/17   train_loss = 2.868\n",
      "Epoch 382 Batch    6/17   train_loss = 2.853\n",
      "Epoch 385 Batch    5/17   train_loss = 2.853\n",
      "Epoch 388 Batch    4/17   train_loss = 2.852\n",
      "Epoch 391 Batch    3/17   train_loss = 2.851\n",
      "Epoch 394 Batch    2/17   train_loss = 2.859\n",
      "Epoch 397 Batch    1/17   train_loss = 2.832\n",
      "Epoch 400 Batch    0/17   train_loss = 2.800\n",
      "Epoch 402 Batch   16/17   train_loss = 2.899\n",
      "Epoch 405 Batch   15/17   train_loss = 2.853\n",
      "Epoch 408 Batch   14/17   train_loss = 2.655\n",
      "Epoch 411 Batch   13/17   train_loss = 2.733\n",
      "Epoch 414 Batch   12/17   train_loss = 2.608\n",
      "Epoch 417 Batch   11/17   train_loss = 2.672\n",
      "Epoch 420 Batch   10/17   train_loss = 2.646\n",
      "Epoch 423 Batch    9/17   train_loss = 2.583\n",
      "Epoch 426 Batch    8/17   train_loss = 2.664\n",
      "Epoch 429 Batch    7/17   train_loss = 2.633\n",
      "Epoch 432 Batch    6/17   train_loss = 2.610\n",
      "Epoch 435 Batch    5/17   train_loss = 2.581\n",
      "Epoch 438 Batch    4/17   train_loss = 2.529\n",
      "Epoch 441 Batch    3/17   train_loss = 2.522\n",
      "Epoch 444 Batch    2/17   train_loss = 2.513\n",
      "Epoch 447 Batch    1/17   train_loss = 2.479\n",
      "Epoch 450 Batch    0/17   train_loss = 2.420\n",
      "Epoch 452 Batch   16/17   train_loss = 2.547\n",
      "Epoch 455 Batch   15/17   train_loss = 2.489\n",
      "Epoch 458 Batch   14/17   train_loss = 2.338\n",
      "Epoch 461 Batch   13/17   train_loss = 2.485\n",
      "Epoch 464 Batch   12/17   train_loss = 2.375\n",
      "Epoch 467 Batch   11/17   train_loss = 2.409\n",
      "Epoch 470 Batch   10/17   train_loss = 2.371\n",
      "Epoch 473 Batch    9/17   train_loss = 2.283\n",
      "Epoch 476 Batch    8/17   train_loss = 2.388\n",
      "Epoch 479 Batch    7/17   train_loss = 2.271\n",
      "Epoch 482 Batch    6/17   train_loss = 2.288\n",
      "Epoch 485 Batch    5/17   train_loss = 2.282\n",
      "Epoch 488 Batch    4/17   train_loss = 2.276\n",
      "Epoch 491 Batch    3/17   train_loss = 2.279\n",
      "Epoch 494 Batch    2/17   train_loss = 2.239\n",
      "Epoch 497 Batch    1/17   train_loss = 2.236\n",
      "Epoch 500 Batch    0/17   train_loss = 2.159\n",
      "Epoch 502 Batch   16/17   train_loss = 2.300\n",
      "Epoch 505 Batch   15/17   train_loss = 2.228\n",
      "Epoch 508 Batch   14/17   train_loss = 2.135\n",
      "Epoch 511 Batch   13/17   train_loss = 2.238\n",
      "Epoch 514 Batch   12/17   train_loss = 2.191\n",
      "Epoch 517 Batch   11/17   train_loss = 2.146\n",
      "Epoch 520 Batch   10/17   train_loss = 2.122\n",
      "Epoch 523 Batch    9/17   train_loss = 2.026\n",
      "Epoch 526 Batch    8/17   train_loss = 2.137\n",
      "Epoch 529 Batch    7/17   train_loss = 2.020\n",
      "Epoch 532 Batch    6/17   train_loss = 2.030\n",
      "Epoch 535 Batch    5/17   train_loss = 2.025\n",
      "Epoch 538 Batch    4/17   train_loss = 2.057\n",
      "Epoch 541 Batch    3/17   train_loss = 2.056\n",
      "Epoch 544 Batch    2/17   train_loss = 2.018\n",
      "Epoch 547 Batch    1/17   train_loss = 1.992\n",
      "Epoch 550 Batch    0/17   train_loss = 1.923\n",
      "Epoch 552 Batch   16/17   train_loss = 2.017\n",
      "Epoch 555 Batch   15/17   train_loss = 1.998\n",
      "Epoch 558 Batch   14/17   train_loss = 1.862\n",
      "Epoch 561 Batch   13/17   train_loss = 2.037\n",
      "Epoch 564 Batch   12/17   train_loss = 1.929\n",
      "Epoch 567 Batch   11/17   train_loss = 1.924\n",
      "Epoch 570 Batch   10/17   train_loss = 1.961\n",
      "Epoch 573 Batch    9/17   train_loss = 1.912\n",
      "Epoch 576 Batch    8/17   train_loss = 2.010\n",
      "Epoch 579 Batch    7/17   train_loss = 1.865\n",
      "Epoch 582 Batch    6/17   train_loss = 1.845\n",
      "Epoch 585 Batch    5/17   train_loss = 1.825\n",
      "Epoch 588 Batch    4/17   train_loss = 1.793\n",
      "Epoch 591 Batch    3/17   train_loss = 1.811\n",
      "Epoch 594 Batch    2/17   train_loss = 1.772\n",
      "Epoch 597 Batch    1/17   train_loss = 1.746\n",
      "Epoch 600 Batch    0/17   train_loss = 1.710\n",
      "Epoch 602 Batch   16/17   train_loss = 1.797\n",
      "Epoch 605 Batch   15/17   train_loss = 1.796\n",
      "Epoch 608 Batch   14/17   train_loss = 1.709\n",
      "Epoch 611 Batch   13/17   train_loss = 1.759\n",
      "Epoch 614 Batch   12/17   train_loss = 1.704\n",
      "Epoch 617 Batch   11/17   train_loss = 1.745\n",
      "Epoch 620 Batch   10/17   train_loss = 1.701\n",
      "Epoch 623 Batch    9/17   train_loss = 1.623\n",
      "Epoch 626 Batch    8/17   train_loss = 1.716\n",
      "Epoch 629 Batch    7/17   train_loss = 1.601\n",
      "Epoch 632 Batch    6/17   train_loss = 1.623\n",
      "Epoch 635 Batch    5/17   train_loss = 1.621\n",
      "Epoch 638 Batch    4/17   train_loss = 1.642\n",
      "Epoch 641 Batch    3/17   train_loss = 1.614\n",
      "Epoch 644 Batch    2/17   train_loss = 1.609\n",
      "Epoch 647 Batch    1/17   train_loss = 1.591\n",
      "Epoch 650 Batch    0/17   train_loss = 1.492\n",
      "Epoch 652 Batch   16/17   train_loss = 1.586\n",
      "Epoch 655 Batch   15/17   train_loss = 1.575\n",
      "Epoch 658 Batch   14/17   train_loss = 1.469\n",
      "Epoch 661 Batch   13/17   train_loss = 1.523\n",
      "Epoch 664 Batch   12/17   train_loss = 1.460\n",
      "Epoch 667 Batch   11/17   train_loss = 1.523\n",
      "Epoch 670 Batch   10/17   train_loss = 1.524\n",
      "Epoch 673 Batch    9/17   train_loss = 1.501\n",
      "Epoch 676 Batch    8/17   train_loss = 1.545\n",
      "Epoch 679 Batch    7/17   train_loss = 1.599\n",
      "Epoch 682 Batch    6/17   train_loss = 1.567\n",
      "Epoch 685 Batch    5/17   train_loss = 1.504\n",
      "Epoch 688 Batch    4/17   train_loss = 1.421\n",
      "Epoch 691 Batch    3/17   train_loss = 1.458\n",
      "Epoch 694 Batch    2/17   train_loss = 1.410\n",
      "Epoch 697 Batch    1/17   train_loss = 1.404\n",
      "Epoch 700 Batch    0/17   train_loss = 1.312\n",
      "Epoch 702 Batch   16/17   train_loss = 1.445\n",
      "Epoch 705 Batch   15/17   train_loss = 1.409\n",
      "Epoch 708 Batch   14/17   train_loss = 1.330\n",
      "Epoch 711 Batch   13/17   train_loss = 1.367\n",
      "Epoch 714 Batch   12/17   train_loss = 1.292\n",
      "Epoch 717 Batch   11/17   train_loss = 1.370\n",
      "Epoch 720 Batch   10/17   train_loss = 1.347\n",
      "Epoch 723 Batch    9/17   train_loss = 1.287\n",
      "Epoch 726 Batch    8/17   train_loss = 1.355\n",
      "Epoch 729 Batch    7/17   train_loss = 1.259\n",
      "Epoch 732 Batch    6/17   train_loss = 1.250\n",
      "Epoch 735 Batch    5/17   train_loss = 1.287\n",
      "Epoch 738 Batch    4/17   train_loss = 1.239\n",
      "Epoch 741 Batch    3/17   train_loss = 1.272\n",
      "Epoch 744 Batch    2/17   train_loss = 1.277\n",
      "Epoch 747 Batch    1/17   train_loss = 1.217\n",
      "Epoch 750 Batch    0/17   train_loss = 1.180\n",
      "Epoch 752 Batch   16/17   train_loss = 1.247\n",
      "Epoch 755 Batch   15/17   train_loss = 1.232\n",
      "Epoch 758 Batch   14/17   train_loss = 1.182\n",
      "Epoch 761 Batch   13/17   train_loss = 1.211\n",
      "Epoch 764 Batch   12/17   train_loss = 1.149\n",
      "Epoch 767 Batch   11/17   train_loss = 1.209\n",
      "Epoch 770 Batch   10/17   train_loss = 1.168\n",
      "Epoch 773 Batch    9/17   train_loss = 1.128\n",
      "Epoch 776 Batch    8/17   train_loss = 1.199\n",
      "Epoch 779 Batch    7/17   train_loss = 1.141\n",
      "Epoch 782 Batch    6/17   train_loss = 1.120\n",
      "Epoch 785 Batch    5/17   train_loss = 1.183\n",
      "Epoch 788 Batch    4/17   train_loss = 1.129\n",
      "Epoch 791 Batch    3/17   train_loss = 1.174\n",
      "Epoch 794 Batch    2/17   train_loss = 1.215\n",
      "Epoch 797 Batch    1/17   train_loss = 1.155\n",
      "Epoch 800 Batch    0/17   train_loss = 1.174\n",
      "Epoch 802 Batch   16/17   train_loss = 1.204\n",
      "Epoch 805 Batch   15/17   train_loss = 1.107\n",
      "Epoch 808 Batch   14/17   train_loss = 1.038\n",
      "Epoch 811 Batch   13/17   train_loss = 1.057\n",
      "Epoch 814 Batch   12/17   train_loss = 0.975\n",
      "Epoch 817 Batch   11/17   train_loss = 1.011\n",
      "Epoch 820 Batch   10/17   train_loss = 1.012\n",
      "Epoch 823 Batch    9/17   train_loss = 0.960\n",
      "Epoch 826 Batch    8/17   train_loss = 1.030\n",
      "Epoch 829 Batch    7/17   train_loss = 0.977\n",
      "Epoch 832 Batch    6/17   train_loss = 0.958\n",
      "Epoch 835 Batch    5/17   train_loss = 1.049\n",
      "Epoch 838 Batch    4/17   train_loss = 0.980\n",
      "Epoch 841 Batch    3/17   train_loss = 1.068\n",
      "Epoch 844 Batch    2/17   train_loss = 1.020\n",
      "Epoch 847 Batch    1/17   train_loss = 0.980\n",
      "Epoch 850 Batch    0/17   train_loss = 0.900\n",
      "Epoch 852 Batch   16/17   train_loss = 0.965\n",
      "Epoch 855 Batch   15/17   train_loss = 0.959\n",
      "Epoch 858 Batch   14/17   train_loss = 0.906\n",
      "Epoch 861 Batch   13/17   train_loss = 0.936\n",
      "Epoch 864 Batch   12/17   train_loss = 0.860\n",
      "Epoch 867 Batch   11/17   train_loss = 0.942\n",
      "Epoch 870 Batch   10/17   train_loss = 0.929\n",
      "Epoch 873 Batch    9/17   train_loss = 0.871\n",
      "Epoch 876 Batch    8/17   train_loss = 0.933\n",
      "Epoch 879 Batch    7/17   train_loss = 0.863\n",
      "Epoch 882 Batch    6/17   train_loss = 0.833\n",
      "Epoch 885 Batch    5/17   train_loss = 0.905\n",
      "Epoch 888 Batch    4/17   train_loss = 0.833\n",
      "Epoch 891 Batch    3/17   train_loss = 0.918\n",
      "Epoch 894 Batch    2/17   train_loss = 0.872\n",
      "Epoch 897 Batch    1/17   train_loss = 0.880\n",
      "Epoch 900 Batch    0/17   train_loss = 0.845\n",
      "Epoch 902 Batch   16/17   train_loss = 0.910\n",
      "Epoch 905 Batch   15/17   train_loss = 0.880\n",
      "Epoch 908 Batch   14/17   train_loss = 0.803\n",
      "Epoch 911 Batch   13/17   train_loss = 0.801\n",
      "Epoch 914 Batch   12/17   train_loss = 0.731\n",
      "Epoch 917 Batch   11/17   train_loss = 0.772\n",
      "Epoch 920 Batch   10/17   train_loss = 0.768\n",
      "Epoch 923 Batch    9/17   train_loss = 0.734\n",
      "Epoch 926 Batch    8/17   train_loss = 0.780\n",
      "Epoch 929 Batch    7/17   train_loss = 0.743\n",
      "Epoch 932 Batch    6/17   train_loss = 0.724\n",
      "Epoch 935 Batch    5/17   train_loss = 0.787\n",
      "Epoch 938 Batch    4/17   train_loss = 0.746\n",
      "Epoch 941 Batch    3/17   train_loss = 0.798\n",
      "Epoch 944 Batch    2/17   train_loss = 0.812\n",
      "Epoch 947 Batch    1/17   train_loss = 0.739\n",
      "Epoch 950 Batch    0/17   train_loss = 0.729\n",
      "Epoch 952 Batch   16/17   train_loss = 0.753\n",
      "Epoch 955 Batch   15/17   train_loss = 0.746\n",
      "Epoch 958 Batch   14/17   train_loss = 0.698\n",
      "Epoch 961 Batch   13/17   train_loss = 0.704\n",
      "Epoch 964 Batch   12/17   train_loss = 0.636\n",
      "Epoch 967 Batch   11/17   train_loss = 0.671\n",
      "Epoch 970 Batch   10/17   train_loss = 0.668\n",
      "Epoch 973 Batch    9/17   train_loss = 0.644\n",
      "Epoch 976 Batch    8/17   train_loss = 0.682\n",
      "Epoch 979 Batch    7/17   train_loss = 0.671\n",
      "Epoch 982 Batch    6/17   train_loss = 0.651\n",
      "Epoch 985 Batch    5/17   train_loss = 0.716\n",
      "Epoch 988 Batch    4/17   train_loss = 0.673\n",
      "Epoch 991 Batch    3/17   train_loss = 0.724\n",
      "Epoch 994 Batch    2/17   train_loss = 0.680\n",
      "Epoch 997 Batch    1/17   train_loss = 0.647\n",
      "Epoch 1000 Batch    0/17   train_loss = 0.609\n",
      "Epoch 1002 Batch   16/17   train_loss = 0.668\n",
      "Epoch 1005 Batch   15/17   train_loss = 0.733\n",
      "Epoch 1008 Batch   14/17   train_loss = 0.700\n",
      "Epoch 1011 Batch   13/17   train_loss = 0.801\n",
      "Epoch 1014 Batch   12/17   train_loss = 0.638\n",
      "Epoch 1017 Batch   11/17   train_loss = 0.680\n",
      "Epoch 1020 Batch   10/17   train_loss = 0.617\n",
      "Epoch 1023 Batch    9/17   train_loss = 0.565\n",
      "Epoch 1026 Batch    8/17   train_loss = 0.581\n",
      "Epoch 1029 Batch    7/17   train_loss = 0.557\n",
      "Epoch 1032 Batch    6/17   train_loss = 0.527\n",
      "Epoch 1035 Batch    5/17   train_loss = 0.593\n",
      "Epoch 1038 Batch    4/17   train_loss = 0.530\n",
      "Epoch 1041 Batch    3/17   train_loss = 0.576\n",
      "Epoch 1044 Batch    2/17   train_loss = 0.574\n",
      "Epoch 1047 Batch    1/17   train_loss = 0.548\n",
      "Epoch 1050 Batch    0/17   train_loss = 0.521\n",
      "Epoch 1052 Batch   16/17   train_loss = 0.625\n",
      "Epoch 1055 Batch   15/17   train_loss = 0.662\n",
      "Epoch 1058 Batch   14/17   train_loss = 0.618\n",
      "Epoch 1061 Batch   13/17   train_loss = 0.604\n",
      "Epoch 1064 Batch   12/17   train_loss = 0.603\n",
      "Epoch 1067 Batch   11/17   train_loss = 0.539\n",
      "Epoch 1070 Batch   10/17   train_loss = 0.527\n",
      "Epoch 1073 Batch    9/17   train_loss = 0.493\n",
      "Epoch 1076 Batch    8/17   train_loss = 0.509\n",
      "Epoch 1079 Batch    7/17   train_loss = 0.485\n",
      "Epoch 1082 Batch    6/17   train_loss = 0.460\n",
      "Epoch 1085 Batch    5/17   train_loss = 0.520\n",
      "Epoch 1088 Batch    4/17   train_loss = 0.452\n",
      "Epoch 1091 Batch    3/17   train_loss = 0.508\n",
      "Epoch 1094 Batch    2/17   train_loss = 0.485\n",
      "Epoch 1097 Batch    1/17   train_loss = 0.457\n",
      "Epoch 1100 Batch    0/17   train_loss = 0.433\n",
      "Epoch 1102 Batch   16/17   train_loss = 0.480\n",
      "Epoch 1105 Batch   15/17   train_loss = 0.504\n",
      "Epoch 1108 Batch   14/17   train_loss = 0.497\n",
      "Epoch 1111 Batch   13/17   train_loss = 0.504\n",
      "Epoch 1114 Batch   12/17   train_loss = 0.461\n",
      "Epoch 1117 Batch   11/17   train_loss = 0.464\n",
      "Epoch 1120 Batch   10/17   train_loss = 0.497\n",
      "Epoch 1123 Batch    9/17   train_loss = 0.463\n",
      "Epoch 1126 Batch    8/17   train_loss = 0.517\n",
      "Epoch 1129 Batch    7/17   train_loss = 0.473\n",
      "Epoch 1132 Batch    6/17   train_loss = 0.413\n",
      "Epoch 1135 Batch    5/17   train_loss = 0.461\n",
      "Epoch 1138 Batch    4/17   train_loss = 0.391\n",
      "Epoch 1141 Batch    3/17   train_loss = 0.440\n",
      "Epoch 1144 Batch    2/17   train_loss = 0.418\n",
      "Epoch 1147 Batch    1/17   train_loss = 0.388\n",
      "Epoch 1150 Batch    0/17   train_loss = 0.369\n",
      "Epoch 1152 Batch   16/17   train_loss = 0.406\n",
      "Epoch 1155 Batch   15/17   train_loss = 0.421\n",
      "Epoch 1158 Batch   14/17   train_loss = 0.406\n",
      "Epoch 1161 Batch   13/17   train_loss = 0.417\n",
      "Epoch 1164 Batch   12/17   train_loss = 0.378\n",
      "Epoch 1167 Batch   11/17   train_loss = 0.404\n",
      "Epoch 1170 Batch   10/17   train_loss = 0.411\n",
      "Epoch 1173 Batch    9/17   train_loss = 0.405\n",
      "Epoch 1176 Batch    8/17   train_loss = 0.437\n",
      "Epoch 1179 Batch    7/17   train_loss = 0.419\n",
      "Epoch 1182 Batch    6/17   train_loss = 0.372\n",
      "Epoch 1185 Batch    5/17   train_loss = 0.417\n",
      "Epoch 1188 Batch    4/17   train_loss = 0.343\n",
      "Epoch 1191 Batch    3/17   train_loss = 0.390\n",
      "Epoch 1194 Batch    2/17   train_loss = 0.367\n",
      "Epoch 1197 Batch    1/17   train_loss = 0.340\n",
      "Epoch 1200 Batch    0/17   train_loss = 0.325\n",
      "Epoch 1202 Batch   16/17   train_loss = 0.357\n",
      "Epoch 1205 Batch   15/17   train_loss = 0.374\n",
      "Epoch 1208 Batch   14/17   train_loss = 0.371\n",
      "Epoch 1211 Batch   13/17   train_loss = 0.371\n",
      "Epoch 1214 Batch   12/17   train_loss = 0.353\n",
      "Epoch 1217 Batch   11/17   train_loss = 0.368\n",
      "Epoch 1220 Batch   10/17   train_loss = 0.375\n",
      "Epoch 1223 Batch    9/17   train_loss = 0.366\n",
      "Epoch 1226 Batch    8/17   train_loss = 0.373\n",
      "Epoch 1229 Batch    7/17   train_loss = 0.347\n",
      "Epoch 1232 Batch    6/17   train_loss = 0.317\n",
      "Epoch 1235 Batch    5/17   train_loss = 0.360\n",
      "Epoch 1238 Batch    4/17   train_loss = 0.294\n",
      "Epoch 1241 Batch    3/17   train_loss = 0.347\n",
      "Epoch 1244 Batch    2/17   train_loss = 0.322\n",
      "Epoch 1247 Batch    1/17   train_loss = 0.304\n",
      "Epoch 1250 Batch    0/17   train_loss = 0.284\n",
      "Epoch 1252 Batch   16/17   train_loss = 0.324\n",
      "Epoch 1255 Batch   15/17   train_loss = 0.336\n",
      "Epoch 1258 Batch   14/17   train_loss = 0.331\n",
      "Epoch 1261 Batch   13/17   train_loss = 0.336\n",
      "Epoch 1264 Batch   12/17   train_loss = 0.319\n",
      "Epoch 1267 Batch   11/17   train_loss = 0.339\n",
      "Epoch 1270 Batch   10/17   train_loss = 0.327\n",
      "Epoch 1273 Batch    9/17   train_loss = 0.317\n",
      "Epoch 1276 Batch    8/17   train_loss = 0.312\n",
      "Epoch 1279 Batch    7/17   train_loss = 0.290\n",
      "Epoch 1282 Batch    6/17   train_loss = 0.268\n",
      "Epoch 1285 Batch    5/17   train_loss = 0.304\n",
      "Epoch 1288 Batch    4/17   train_loss = 0.251\n",
      "Epoch 1291 Batch    3/17   train_loss = 0.305\n",
      "Epoch 1294 Batch    2/17   train_loss = 0.280\n",
      "Epoch 1297 Batch    1/17   train_loss = 0.261\n",
      "Epoch 1300 Batch    0/17   train_loss = 0.257\n",
      "Epoch 1302 Batch   16/17   train_loss = 0.285\n",
      "Epoch 1305 Batch   15/17   train_loss = 0.298\n",
      "Epoch 1308 Batch   14/17   train_loss = 0.332\n",
      "Epoch 1311 Batch   13/17   train_loss = 0.373\n",
      "Epoch 1314 Batch   12/17   train_loss = 0.351\n",
      "Epoch 1317 Batch   11/17   train_loss = 0.661\n",
      "Epoch 1320 Batch   10/17   train_loss = 0.614\n",
      "Epoch 1323 Batch    9/17   train_loss = 0.331\n",
      "Epoch 1326 Batch    8/17   train_loss = 0.279\n",
      "Epoch 1329 Batch    7/17   train_loss = 0.259\n",
      "Epoch 1332 Batch    6/17   train_loss = 0.243\n",
      "Epoch 1335 Batch    5/17   train_loss = 0.278\n",
      "Epoch 1338 Batch    4/17   train_loss = 0.228\n",
      "Epoch 1341 Batch    3/17   train_loss = 0.274\n",
      "Epoch 1344 Batch    2/17   train_loss = 0.254\n",
      "Epoch 1347 Batch    1/17   train_loss = 0.237\n",
      "Epoch 1350 Batch    0/17   train_loss = 0.223\n",
      "Epoch 1352 Batch   16/17   train_loss = 0.246\n",
      "Epoch 1355 Batch   15/17   train_loss = 0.260\n",
      "Epoch 1358 Batch   14/17   train_loss = 0.252\n",
      "Epoch 1361 Batch   13/17   train_loss = 0.255\n",
      "Epoch 1364 Batch   12/17   train_loss = 0.227\n",
      "Epoch 1367 Batch   11/17   train_loss = 0.229\n",
      "Epoch 1370 Batch   10/17   train_loss = 0.226\n",
      "Epoch 1373 Batch    9/17   train_loss = 0.231\n",
      "Epoch 1376 Batch    8/17   train_loss = 0.236\n",
      "Epoch 1379 Batch    7/17   train_loss = 0.225\n",
      "Epoch 1382 Batch    6/17   train_loss = 0.215\n",
      "Epoch 1385 Batch    5/17   train_loss = 0.246\n",
      "Epoch 1388 Batch    4/17   train_loss = 0.203\n",
      "Epoch 1391 Batch    3/17   train_loss = 0.246\n",
      "Epoch 1394 Batch    2/17   train_loss = 0.229\n",
      "Epoch 1397 Batch    1/17   train_loss = 0.213\n",
      "Epoch 1400 Batch    0/17   train_loss = 0.202\n",
      "Epoch 1402 Batch   16/17   train_loss = 0.221\n",
      "Epoch 1405 Batch   15/17   train_loss = 0.238\n",
      "Epoch 1408 Batch   14/17   train_loss = 0.230\n",
      "Epoch 1411 Batch   13/17   train_loss = 0.234\n",
      "Epoch 1414 Batch   12/17   train_loss = 0.209\n",
      "Epoch 1417 Batch   11/17   train_loss = 0.210\n",
      "Epoch 1420 Batch   10/17   train_loss = 0.208\n",
      "Epoch 1423 Batch    9/17   train_loss = 0.216\n",
      "Epoch 1426 Batch    8/17   train_loss = 0.223\n",
      "Epoch 1429 Batch    7/17   train_loss = 0.213\n",
      "Epoch 1432 Batch    6/17   train_loss = 0.204\n",
      "Epoch 1435 Batch    5/17   train_loss = 0.230\n",
      "Epoch 1438 Batch    4/17   train_loss = 0.195\n",
      "Epoch 1441 Batch    3/17   train_loss = 0.240\n",
      "Epoch 1444 Batch    2/17   train_loss = 0.234\n",
      "Epoch 1447 Batch    1/17   train_loss = 0.209\n",
      "Epoch 1450 Batch    0/17   train_loss = 0.197\n",
      "Epoch 1452 Batch   16/17   train_loss = 0.230\n",
      "Epoch 1455 Batch   15/17   train_loss = 0.285\n",
      "Epoch 1458 Batch   14/17   train_loss = 0.319\n",
      "Epoch 1461 Batch   13/17   train_loss = 0.309\n",
      "Epoch 1464 Batch   12/17   train_loss = 0.252\n",
      "Epoch 1467 Batch   11/17   train_loss = 0.328\n",
      "Epoch 1470 Batch   10/17   train_loss = 0.323\n",
      "Epoch 1473 Batch    9/17   train_loss = 0.332\n",
      "Epoch 1476 Batch    8/17   train_loss = 0.298\n",
      "Epoch 1479 Batch    7/17   train_loss = 0.221\n",
      "Epoch 1482 Batch    6/17   train_loss = 0.196\n",
      "Epoch 1485 Batch    5/17   train_loss = 0.214\n",
      "Epoch 1488 Batch    4/17   train_loss = 0.178\n",
      "Epoch 1491 Batch    3/17   train_loss = 0.212\n",
      "Epoch 1494 Batch    2/17   train_loss = 0.198\n",
      "Epoch 1497 Batch    1/17   train_loss = 0.184\n",
      "Model Trained and Saved\n"
     ]
    }
   ],
   "source": [
    "\"\"\"\n",
    "DON'T MODIFY ANYTHING IN THIS CELL\n",
    "\"\"\"\n",
    "batches = get_batches(int_text, batch_size, seq_length)\n",
    "\n",
    "with tf.Session(graph=train_graph) as sess:\n",
    "    sess.run(tf.global_variables_initializer())\n",
    "    for epoch_i in range(num_epochs):\n",
    "        state = sess.run(initial_state, {input_text: batches[0][0]})\n",
    "\n",
    "        for batch_i, (x, y) in enumerate(batches):\n",
    "            feed = {\n",
    "                input_text: x,\n",
    "                targets: y,\n",
    "                initial_state: state,\n",
    "                lr: learning_rate}\n",
    "            train_loss, state, _ = sess.run([cost, final_state, train_op], feed)\n",
    "\n",
    "            # Show every <show_every_n_batches> batches\n",
    "            if (epoch_i * len(batches) + batch_i) % show_every_n_batches == 0:\n",
    "                print('Epoch {:>3} Batch {:>4}/{}   train_loss = {:.3f}'.format(\n",
    "                    epoch_i,\n",
    "                    batch_i,\n",
    "                    len(batches),\n",
    "                    train_loss))\n",
    "\n",
    "    # Save Model\n",
    "    saver = tf.train.Saver()\n",
    "    saver.save(sess, save_dir)\n",
    "    print('Model Trained and Saved') "
   ]
  },
  {
   "cell_type": "markdown",
   "metadata": {
    "deletable": true,
    "editable": true
   },
   "source": [
    "## Save Parameters\n",
    "Save `seq_length` and `save_dir` for generating a new TV script."
   ]
  },
  {
   "cell_type": "code",
   "execution_count": 64,
   "metadata": {
    "collapsed": true,
    "deletable": true,
    "editable": true
   },
   "outputs": [],
   "source": [
    "\"\"\"\n",
    "DON'T MODIFY ANYTHING IN THIS CELL\n",
    "\"\"\"\n",
    "# Save parameters for checkpoint\n",
    "helper.save_params((seq_length, save_dir))"
   ]
  },
  {
   "cell_type": "markdown",
   "metadata": {
    "deletable": true,
    "editable": true
   },
   "source": [
    "# Checkpoint"
   ]
  },
  {
   "cell_type": "code",
   "execution_count": 65,
   "metadata": {
    "collapsed": true,
    "deletable": true,
    "editable": true
   },
   "outputs": [],
   "source": [
    "\"\"\"\n",
    "DON'T MODIFY ANYTHING IN THIS CELL\n",
    "\"\"\"\n",
    "import tensorflow as tf\n",
    "import numpy as np\n",
    "import helper\n",
    "import problem_unittests as tests\n",
    "\n",
    "_, vocab_to_int, int_to_vocab, token_dict = helper.load_preprocess()\n",
    "seq_length, load_dir = helper.load_params()"
   ]
  },
  {
   "cell_type": "markdown",
   "metadata": {
    "deletable": true,
    "editable": true
   },
   "source": [
    "## Implement Generate Functions\n",
    "### Get Tensors\n",
    "Get tensors from `loaded_graph` using the function [`get_tensor_by_name()`](https://www.tensorflow.org/api_docs/python/tf/Graph#get_tensor_by_name).  Get the tensors using the following names:\n",
    "- \"input:0\"\n",
    "- \"initial_state:0\"\n",
    "- \"final_state:0\"\n",
    "- \"probs:0\"\n",
    "\n",
    "Return the tensors in the following tuple `(InputTensor, InitialStateTensor, FinalStateTensor, ProbsTensor)` "
   ]
  },
  {
   "cell_type": "code",
   "execution_count": 66,
   "metadata": {
    "collapsed": false,
    "deletable": true,
    "editable": true
   },
   "outputs": [
    {
     "name": "stdout",
     "output_type": "stream",
     "text": [
      "Tests Passed\n"
     ]
    }
   ],
   "source": [
    "def get_tensors(loaded_graph):\n",
    "    \"\"\"\n",
    "    Get input, initial state, final state, and probabilities tensor from <loaded_graph>\n",
    "    :param loaded_graph: TensorFlow graph loaded from file\n",
    "    :return: Tuple (InputTensor, InitialStateTensor, FinalStateTensor, ProbsTensor)\n",
    "    \"\"\"\n",
    "    # TODO: Implement Function\n",
    "    return loaded_graph.get_tensor_by_name(\"input:0\"), loaded_graph.get_tensor_by_name(\"initial_state:0\"), loaded_graph.get_tensor_by_name(\"final_state:0\"), loaded_graph.get_tensor_by_name(\"probs:0\")\n",
    "\n",
    "\n",
    "\"\"\"\n",
    "DON'T MODIFY ANYTHING IN THIS CELL THAT IS BELOW THIS LINE\n",
    "\"\"\"\n",
    "tests.test_get_tensors(get_tensors)"
   ]
  },
  {
   "cell_type": "markdown",
   "metadata": {
    "deletable": true,
    "editable": true
   },
   "source": [
    "### Choose Word\n",
    "Implement the `pick_word()` function to select the next word using `probabilities`."
   ]
  },
  {
   "cell_type": "code",
   "execution_count": 67,
   "metadata": {
    "collapsed": false,
    "deletable": true,
    "editable": true
   },
   "outputs": [
    {
     "name": "stdout",
     "output_type": "stream",
     "text": [
      "Tests Passed\n"
     ]
    }
   ],
   "source": [
    "def pick_word(probabilities, int_to_vocab):\n",
    "    \"\"\"\n",
    "    Pick the next word in the generated text\n",
    "    :param probabilities: Probabilites of the next word\n",
    "    :param int_to_vocab: Dictionary of word ids as the keys and words as the values\n",
    "    :return: String of the predicted word\n",
    "    \"\"\"\n",
    "    # TODO: Implement Function\n",
    "    return int_to_vocab[np.argmax(probabilities)]\n",
    "\n",
    "\n",
    "\"\"\"\n",
    "DON'T MODIFY ANYTHING IN THIS CELL THAT IS BELOW THIS LINE\n",
    "\"\"\"\n",
    "tests.test_pick_word(pick_word)"
   ]
  },
  {
   "cell_type": "markdown",
   "metadata": {
    "deletable": true,
    "editable": true
   },
   "source": [
    "## Generate TV Script\n",
    "This will generate the TV script for you.  Set `gen_length` to the length of TV script you want to generate."
   ]
  },
  {
   "cell_type": "code",
   "execution_count": 68,
   "metadata": {
    "collapsed": false,
    "deletable": true,
    "editable": true
   },
   "outputs": [
    {
     "name": "stdout",
     "output_type": "stream",
     "text": [
      "moe_szyslak:(into phone) gotcha ya down for forty bucks. good luck your eminence.\n",
      "moe_szyslak: sorry, all right. it's like a man who over you in your polls...\n",
      "carl_carlson: yeah, i don't think as anything to get care. you see for the ultimate pick in the morning.\n",
      "homer_simpson: what you do, 'cause i have gotta do?\n",
      "kemi: we still up the kids... what about you, you'll realize you have nothing in the back(raises glass in front of mouth,\" drink will be duff cards and will be\" sauce...(small laugh)\n",
      "moe_szyslak: pity! get that boy?\n",
      "homer_simpson:(still sigh) you got a beer and dr. marvin monroe's family.... well, if it isn't mr. x...(loud sotto) but..\n",
      "moe_szyslak: all right. you're like that, moe? if you got me like fat!\n",
      "carl_carlson: and you can't let terror down us your women in me, you could sell\n"
     ]
    }
   ],
   "source": [
    "gen_length = 200\n",
    "# homer_simpson, moe_szyslak, or Barney_Gumble\n",
    "prime_word = 'moe_szyslak'\n",
    "\n",
    "\"\"\"\n",
    "DON'T MODIFY ANYTHING IN THIS CELL THAT IS BELOW THIS LINE\n",
    "\"\"\"\n",
    "loaded_graph = tf.Graph()\n",
    "with tf.Session(graph=loaded_graph) as sess:\n",
    "    # Load saved model\n",
    "    loader = tf.train.import_meta_graph(load_dir + '.meta')\n",
    "    loader.restore(sess, load_dir)\n",
    "\n",
    "    # Get Tensors from loaded model\n",
    "    input_text, initial_state, final_state, probs = get_tensors(loaded_graph)\n",
    "\n",
    "    # Sentences generation setup\n",
    "    gen_sentences = [prime_word + ':']\n",
    "    prev_state = sess.run(initial_state, {input_text: np.array([[1]])})\n",
    "\n",
    "    # Generate sentences\n",
    "    for n in range(gen_length):\n",
    "        # Dynamic Input\n",
    "        dyn_input = [[vocab_to_int[word] for word in gen_sentences[-seq_length:]]]\n",
    "        dyn_seq_length = len(dyn_input[0])\n",
    "\n",
    "        # Get Prediction\n",
    "        probabilities, prev_state = sess.run(\n",
    "            [probs, final_state],\n",
    "            {input_text: dyn_input, initial_state: prev_state})\n",
    "        \n",
    "        pred_word = pick_word(probabilities[dyn_seq_length-1], int_to_vocab)\n",
    "\n",
    "        gen_sentences.append(pred_word)\n",
    "    \n",
    "    # Remove tokens\n",
    "    tv_script = ' '.join(gen_sentences)\n",
    "    for key, token in token_dict.items():\n",
    "        ending = ' ' if key in ['\\n', '(', '\"'] else ''\n",
    "        tv_script = tv_script.replace(' ' + token.lower(), key)\n",
    "    tv_script = tv_script.replace('\\n ', '\\n')\n",
    "    tv_script = tv_script.replace('( ', '(')\n",
    "        \n",
    "    print(tv_script)"
   ]
  },
  {
   "cell_type": "markdown",
   "metadata": {
    "deletable": true,
    "editable": true
   },
   "source": [
    "# The TV Script is Nonsensical\n",
    "It's ok if the TV script doesn't make any sense.  We trained on less than a megabyte of text.  In order to get good results, you'll have to use a smaller vocabulary or get more data.  Luckly there's more data!  As we mentioned in the begging of this project, this is a subset of [another dataset](https://www.kaggle.com/wcukierski/the-simpsons-by-the-data).  We didn't have you train on all the data, because that would take too long.  However, you are free to train your neural network on all the data.  After you complete the project, of course.\n",
    "# Submitting This Project\n",
    "When submitting this project, make sure to run all the cells before saving the notebook. Save the notebook file as \"dlnd_tv_script_generation.ipynb\" and save it as a HTML file under \"File\" -> \"Download as\". Include the \"helper.py\" and \"problem_unittests.py\" files in your submission."
   ]
  },
  {
   "cell_type": "code",
   "execution_count": null,
   "metadata": {
    "collapsed": true,
    "deletable": true,
    "editable": true
   },
   "outputs": [],
   "source": []
  }
 ],
 "metadata": {
  "kernelspec": {
   "display_name": "Python 3",
   "language": "python",
   "name": "python3"
  },
  "language_info": {
   "codemirror_mode": {
    "name": "ipython",
    "version": 3
   },
   "file_extension": ".py",
   "mimetype": "text/x-python",
   "name": "python",
   "nbconvert_exporter": "python",
   "pygments_lexer": "ipython3",
   "version": "3.5.2"
  },
  "widgets": {
   "state": {},
   "version": "1.1.2"
  }
 },
 "nbformat": 4,
 "nbformat_minor": 1
}
